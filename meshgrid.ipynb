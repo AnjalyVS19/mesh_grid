{
 "cells": [
  {
   "cell_type": "code",
   "execution_count": 1,
   "id": "19645899",
   "metadata": {
    "collapsed": true
   },
   "outputs": [
    {
     "name": "stdout",
     "output_type": "stream",
     "text": [
      "[-4. -3. -2. -1.  0.  1.  2.  3.  4.]\n",
      "[-5. -4. -3. -2. -1.  0.  1.  2.  3.  4.  5.]\n"
     ]
    }
   ],
   "source": [
    "import numpy as np\n",
    "import matplotlib.pyplot as plt\n",
    "x=np.linspace(-4,4,9)\n",
    "y=np.linspace(-5,5,11)\n",
    "print(x)\n",
    "print(y)"
   ]
  },
  {
   "cell_type": "code",
   "execution_count": 2,
   "id": "82731174",
   "metadata": {
    "collapsed": true
   },
   "outputs": [
    {
     "data": {
      "text/plain": [
       "array([[-4., -3., -2., -1.,  0.,  1.,  2.,  3.,  4.],\n",
       "       [-4., -3., -2., -1.,  0.,  1.,  2.,  3.,  4.],\n",
       "       [-4., -3., -2., -1.,  0.,  1.,  2.,  3.,  4.],\n",
       "       [-4., -3., -2., -1.,  0.,  1.,  2.,  3.,  4.],\n",
       "       [-4., -3., -2., -1.,  0.,  1.,  2.,  3.,  4.],\n",
       "       [-4., -3., -2., -1.,  0.,  1.,  2.,  3.,  4.],\n",
       "       [-4., -3., -2., -1.,  0.,  1.,  2.,  3.,  4.],\n",
       "       [-4., -3., -2., -1.,  0.,  1.,  2.,  3.,  4.],\n",
       "       [-4., -3., -2., -1.,  0.,  1.,  2.,  3.,  4.],\n",
       "       [-4., -3., -2., -1.,  0.,  1.,  2.,  3.,  4.],\n",
       "       [-4., -3., -2., -1.,  0.,  1.,  2.,  3.,  4.]])"
      ]
     },
     "execution_count": 2,
     "metadata": {},
     "output_type": "execute_result"
    }
   ],
   "source": [
    "xx,yy=np.meshgrid(x,y)\n",
    "xx"
   ]
  },
  {
   "cell_type": "code",
   "execution_count": 3,
   "id": "eb231273",
   "metadata": {
    "collapsed": true
   },
   "outputs": [
    {
     "data": {
      "text/plain": [
       "array([[-5., -5., -5., -5., -5., -5., -5., -5., -5.],\n",
       "       [-4., -4., -4., -4., -4., -4., -4., -4., -4.],\n",
       "       [-3., -3., -3., -3., -3., -3., -3., -3., -3.],\n",
       "       [-2., -2., -2., -2., -2., -2., -2., -2., -2.],\n",
       "       [-1., -1., -1., -1., -1., -1., -1., -1., -1.],\n",
       "       [ 0.,  0.,  0.,  0.,  0.,  0.,  0.,  0.,  0.],\n",
       "       [ 1.,  1.,  1.,  1.,  1.,  1.,  1.,  1.,  1.],\n",
       "       [ 2.,  2.,  2.,  2.,  2.,  2.,  2.,  2.,  2.],\n",
       "       [ 3.,  3.,  3.,  3.,  3.,  3.,  3.,  3.,  3.],\n",
       "       [ 4.,  4.,  4.,  4.,  4.,  4.,  4.,  4.,  4.],\n",
       "       [ 5.,  5.,  5.,  5.,  5.,  5.,  5.,  5.,  5.]])"
      ]
     },
     "execution_count": 3,
     "metadata": {},
     "output_type": "execute_result"
    }
   ],
   "source": [
    "yy"
   ]
  },
  {
   "cell_type": "code",
   "execution_count": 4,
   "id": "bf40b347",
   "metadata": {},
   "outputs": [],
   "source": [
    "elipse=xx**2+yy**2"
   ]
  },
  {
   "cell_type": "code",
   "execution_count": 5,
   "id": "7921cb73",
   "metadata": {},
   "outputs": [
    {
     "data": {
      "image/png": "[encoded data removed]",
      "text/plain": [
       "<Figure size 640x480 with 1 Axes>"
      ]
     },
     "metadata": {},
     "output_type": "display_data"
    }
   ],
   "source": [
    "plt.contourf(xx,yy,elipse,cmap='jet')\n",
    "plt.show()"
   ]
  },
  {
   "cell_type": "code",
   "execution_count": null,
   "id": "d45f3ab8",
   "metadata": {},
   "outputs": [],
   "source": []
  }
 ],
 "metadata": {
  "kernelspec": {
   "display_name": "Python 3 (ipykernel)",
   "language": "python",
   "name": "python3"
  },
  "language_info": {
   "codemirror_mode": {
    "name": "ipython",
    "version": 3
   },
   "file_extension": ".py",
   "mimetype": "text/x-python",
   "name": "python",
   "nbconvert_exporter": "python",
   "pygments_lexer": "ipython3",
   "version": "3.11.5"
  }
 },
 "nbformat": 4,
 "nbformat_minor": 5
}
